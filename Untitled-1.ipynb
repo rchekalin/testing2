{
 "cells": [
  {
   "cell_type": "code",
   "execution_count": 22,
   "metadata": {},
   "outputs": [
    {
     "data": {
      "text/plain": [
       "'0\\n1\\n2\\n3\\n4\\n5\\n6\\n7\\n8\\n9'"
      ]
     },
     "execution_count": 22,
     "metadata": {},
     "output_type": "execute_result"
    }
   ],
   "source": []
  },
  {
   "cell_type": "code",
   "execution_count": 18,
   "metadata": {},
   "outputs": [
    {
     "name": "stdout",
     "output_type": "stream",
     "text": [
      "0\n",
      "1\n",
      "2\n",
      "3\n",
      "4\n",
      "5\n",
      "6\n",
      "7\n",
      "8\n",
      "9\n"
     ]
    }
   ],
   "source": [
    "x = ([i for i in range(10)])\n",
    "y = list(map(str, x))\n",
    "print(\"\\n\".join(y))\n"
   ]
  },
  {
   "cell_type": "code",
   "execution_count": 24,
   "metadata": {},
   "outputs": [
    {
     "data": {
      "text/plain": [
       "[{'name': 'Captain America',\n",
       "  'realName': 'Steve Rogers',\n",
       "  'yearCreated': 1941,\n",
       "  'powers': ['Strength', 'Healing ability']},\n",
       " {'name': 'Spider-Man',\n",
       "  'realName': 'Peter Parker',\n",
       "  'yearCreated': 1963,\n",
       "  'powers': ['Danger sense', 'Speed', 'Jumping']}]"
      ]
     },
     "execution_count": 24,
     "metadata": {},
     "output_type": "execute_result"
    }
   ],
   "source": [
    "[\n",
    "    {\"name\": \"Captain America\", \"realName\": \"Steve Rogers\", \"yearCreated\": 1941, \"powers\": [\"Strength\", \"Healing ability\"]},\n",
    "    {\n",
    "        \"name\": \"Spider-Man\",\n",
    "        \"realName\": \"Peter Parker\",\n",
    "        \"yearCreated\": 1963,\n",
    "        \"powers\": [\n",
    "            \"Danger sense\",\n",
    "            \"Speed\",\n",
    "            \"Jumping\"\n",
    "        ]\n",
    "    }\n",
    "]"
   ]
  },
  {
   "cell_type": "code",
   "execution_count": 29,
   "metadata": {},
   "outputs": [
    {
     "ename": "SyntaxError",
     "evalue": "invalid syntax (1849015440.py, line 1)",
     "output_type": "error",
     "traceback": [
      "\u001b[1;36m  Input \u001b[1;32mIn [29]\u001b[1;36m\u001b[0m\n\u001b[1;33m    son =\u001b[0m\n\u001b[1;37m          ^\u001b[0m\n\u001b[1;31mSyntaxError\u001b[0m\u001b[1;31m:\u001b[0m invalid syntax\n"
     ]
    }
   ],
   "source": [
    "son = \n",
    "    {\n",
    "        \"name\": \"Captain America\", \n",
    "        \"realName\": \"Steeve Rogers\",\n",
    "        12: [231, \"23233\"]\n",
    "    }\n",
    "\n",
    "son."
   ]
  }
 ],
 "metadata": {
  "kernelspec": {
   "display_name": "Python 3.8.10 64-bit",
   "language": "python",
   "name": "python3"
  },
  "language_info": {
   "codemirror_mode": {
    "name": "ipython",
    "version": 3
   },
   "file_extension": ".py",
   "mimetype": "text/x-python",
   "name": "python",
   "nbconvert_exporter": "python",
   "pygments_lexer": "ipython3",
   "version": "3.8.10"
  },
  "orig_nbformat": 4,
  "vscode": {
   "interpreter": {
    "hash": "eebe3069c25c97a6bc1cb57f600cc12ff521c79dab826eb7fe3ffed2a6a63d21"
   }
  }
 },
 "nbformat": 4,
 "nbformat_minor": 2
}
